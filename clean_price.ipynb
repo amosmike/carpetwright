import re
import pandas as pd

df = pd.read_csv('carpetwright_product_data.csv')
df["currency"] = '£'
df = df.rename(columns={"price": "normal_price"})
df

def add_units(row):
    categories_with_units = ['carpets', 'engineered-wood', 'laminate', 'underlay']
    
    if row['category'] in categories_with_units:
        return 'm²'
    else:
        return ''
    
df['units'] = df.apply(add_units, axis=1)

def clean_price(price_text):
    if isinstance(price_text, str):
        return re.findall(r'\d+\.\d+', price_text)[0] if re.findall(r'\d+\.\d+', price_text) else 'null'
    else:
        return 'null'
        
df['normal_price'] = df['normal_price'].apply(clean_price)
df['sale_price'] = df['sale_price'].apply(clean_price)
df['previous_price'] = df['previous_price'].apply(clean_price)
df

def get_price(row):
    if row['normal_price'] != 'null':
        return row['normal_price']
    else:
        return row['sale_price']
    
df['current_price'] = df.apply(get_price, axis=1)
df

df.to_csv('product_data.csv', index=False, encoding='utf-8-sig')
